{
 "cells": [
  {
   "cell_type": "code",
   "execution_count": 4,
   "metadata": {},
   "outputs": [],
   "source": [
    "from sklearn.linear_model import RidgeClassifier, LogisticRegression\n",
    "from sklearn.ensemble import RandomForestClassifier\n",
    "from sklearn.preprocessing import LabelEncoder\n",
    "from sklearn.model_selection import train_test_split, GridSearchCV\n",
    "from sklearn.feature_extraction.text import TfidfVectorizer, CountVectorizer\n",
    "import pandas, xgboost, numpy, string\n",
    "import pandas as pd\n",
    "import numpy as np"
   ]
  },
  {
   "cell_type": "code",
   "execution_count": 5,
   "metadata": {},
   "outputs": [
    {
     "data": {
      "text/plain": [
       "7"
      ]
     },
     "execution_count": 5,
     "metadata": {},
     "output_type": "execute_result"
    }
   ],
   "source": []
  },
  {
   "cell_type": "code",
   "execution_count": 6,
   "metadata": {},
   "outputs": [
    {
     "data": {
      "text/plain": [
       "'0.81'"
      ]
     },
     "execution_count": 6,
     "metadata": {},
     "output_type": "execute_result"
    }
   ],
   "source": [
    "xgboost.__version__"
   ]
  },
  {
   "cell_type": "code",
   "execution_count": 7,
   "metadata": {},
   "outputs": [],
   "source": [
    "#importing review text and label files to dataframe\n",
    "\n",
    "import pandas as pd\n",
    "\n",
    "df_test_text = pd.read_table('imdb_test_text.txt', delim_whitespace=False, names=('A'))\n",
    "df_test_labels = pd.read_table('imdb_test_labels.txt', delim_whitespace=False, names=('B'))"
   ]
  },
  {
   "cell_type": "code",
   "execution_count": 8,
   "metadata": {},
   "outputs": [
    {
     "data": {
      "text/plain": [
       "(25000, 2)"
      ]
     },
     "execution_count": 8,
     "metadata": {},
     "output_type": "execute_result"
    }
   ],
   "source": [
    "#merging them on index\n",
    "df_test=df_test_text.join(df_test_labels, how='outer')\n",
    "df_test.shape"
   ]
  },
  {
   "cell_type": "code",
   "execution_count": 9,
   "metadata": {},
   "outputs": [],
   "source": [
    "#changing column name\n",
    "df_test=df_test.rename(columns={'A':'review_text',\n",
    "                          'B':'review_label'})\n",
    "df_test.index.name='S.No.'\n",
    "# df_test"
   ]
  },
  {
   "cell_type": "code",
   "execution_count": 10,
   "metadata": {},
   "outputs": [],
   "source": [
    "df_train_text = pd.read_table('imdb_train_text.txt', delim_whitespace=False, names=('A'))\n",
    "df_train_labels = pd.read_table('imdb_train_labels.txt', delim_whitespace=False, names=('B'))"
   ]
  },
  {
   "cell_type": "code",
   "execution_count": 11,
   "metadata": {},
   "outputs": [],
   "source": [
    "#merging them on index\n",
    "df_train=df_train_text.join(df_train_labels, how='outer')"
   ]
  },
  {
   "cell_type": "code",
   "execution_count": 12,
   "metadata": {},
   "outputs": [],
   "source": [
    "#changing column name\n",
    "df_train=df_train.rename(columns={'A':'review_text',\n",
    "                          'B':'review_label'})\n",
    "df_train.index.name='S.No.'\n",
    "# df_train"
   ]
  },
  {
   "cell_type": "code",
   "execution_count": 13,
   "metadata": {},
   "outputs": [
    {
     "data": {
      "text/plain": [
       "(25000, 2)"
      ]
     },
     "execution_count": 13,
     "metadata": {},
     "output_type": "execute_result"
    }
   ],
   "source": [
    "df_train.shape"
   ]
  },
  {
   "cell_type": "code",
   "execution_count": 14,
   "metadata": {},
   "outputs": [
    {
     "data": {
      "text/plain": [
       "(50000, 3)"
      ]
     },
     "execution_count": 14,
     "metadata": {},
     "output_type": "execute_result"
    }
   ],
   "source": [
    "df_all = pd.concat(objs=[df_train,\n",
    "                         df_test],\n",
    "                   axis=0)\n",
    "df_all.reset_index(inplace=True)\n",
    "df_all.shape"
   ]
  },
  {
   "cell_type": "code",
   "execution_count": null,
   "metadata": {},
   "outputs": [],
   "source": []
  },
  {
   "cell_type": "code",
   "execution_count": 15,
   "metadata": {},
   "outputs": [],
   "source": [
    "df_all.drop(labels=['S.No.'],\n",
    "            inplace=True,\n",
    "            axis=1)"
   ]
  },
  {
   "cell_type": "code",
   "execution_count": 16,
   "metadata": {},
   "outputs": [
    {
     "data": {
      "text/plain": [
       "((40000,), (10000,), (40000,), (10000,))"
      ]
     },
     "execution_count": 16,
     "metadata": {},
     "output_type": "execute_result"
    }
   ],
   "source": [
    "X_train, X_test, y_train, y_test = train_test_split(df_all['review_text'],\n",
    "                                                    df_all['review_label'],\n",
    "                                                    test_size=0.2,\n",
    "                                                    random_state=42)\n",
    "X_train.shape, X_test.shape, y_train.shape, y_test.shape"
   ]
  },
  {
   "cell_type": "code",
   "execution_count": 17,
   "metadata": {},
   "outputs": [
    {
     "data": {
      "text/plain": [
       "(array([ 3,  8,  2,  1, 10,  4,  7,  9], dtype=int64),\n",
       " array([ 9, 10,  8,  3,  1,  4,  7,  2], dtype=int64))"
      ]
     },
     "execution_count": 17,
     "metadata": {},
     "output_type": "execute_result"
    }
   ],
   "source": [
    "y_train.unique(), y_test.unique()"
   ]
  },
  {
   "cell_type": "code",
   "execution_count": 18,
   "metadata": {},
   "outputs": [
    {
     "data": {
      "text/plain": [
       "((40000,), (10000,))"
      ]
     },
     "execution_count": 18,
     "metadata": {},
     "output_type": "execute_result"
    }
   ],
   "source": [
    "# label encode the target variable\n",
    "#mention a random split\n",
    "encoder = LabelEncoder()\n",
    "y_train_en = encoder.fit_transform(y_train)\n",
    "y_test_en = encoder.transform(y_test)\n",
    "\n",
    "y_train_en.shape, y_test_en.shape"
   ]
  },
  {
   "cell_type": "code",
   "execution_count": 19,
   "metadata": {},
   "outputs": [],
   "source": [
    "# # create a count vectorizer object \n",
    "# count_vect = CountVectorizer(analyzer='word', \n",
    "#                              token_pattern=r'\\w{1,}')\n",
    "# count_vect.fit(X_train)\n",
    "\n",
    "# # transform the training and validation data using count vectorizer object\n",
    "# X_train_count =  count_vect.transform(X_train)\n",
    "# X_val_count =  count_vect.transform(X_val)\n",
    "\n",
    "# print(X_train_count.shape, X_val_count.shape)"
   ]
  },
  {
   "cell_type": "code",
   "execution_count": 20,
   "metadata": {},
   "outputs": [
    {
     "name": "stdout",
     "output_type": "stream",
     "text": [
      "Wall time: 2min 22s\n"
     ]
    }
   ],
   "source": [
    "%%time\n",
    "\n",
    "# word level tf-idf\n",
    "tfidf_vect = TfidfVectorizer(analyzer='word', \n",
    "                             token_pattern=r'\\w{1,}', \n",
    "                             max_features=1000,\n",
    "                             min_df=0.01, \n",
    "                             max_df=0.95)\n",
    "\n",
    "X_train_tfidf = tfidf_vect.fit_transform(X_train)\n",
    "\n",
    "# ngram level tf-idf \n",
    "tfidf_vect_ngram = TfidfVectorizer(analyzer='word', \n",
    "                                   token_pattern=r'\\w{1,}', \n",
    "                                   ngram_range=(2,3), \n",
    "                                   max_features=1000,\n",
    "                                   min_df=0.01, \n",
    "                                   max_df=0.95)\n",
    "X_train_tfidf_ngram = tfidf_vect_ngram.fit_transform(X_train)\n",
    "\n",
    "# characters level tf-idf\n",
    "tfidf_vect_ngram_chars = TfidfVectorizer(analyzer='char', \n",
    "                                         token_pattern=r'\\w{1,}', \n",
    "                                         ngram_range=(2,3), \n",
    "                                         max_features=1000,\n",
    "                                         min_df=0.01, \n",
    "                                         max_df=0.95)\n",
    "X_train_tfidf_ngram_chars = tfidf_vect_ngram_chars.fit_transform(X_train)\n"
   ]
  },
  {
   "cell_type": "code",
   "execution_count": 21,
   "metadata": {},
   "outputs": [
    {
     "name": "stdout",
     "output_type": "stream",
     "text": [
      "Wall time: 21.4 s\n"
     ]
    }
   ],
   "source": [
    "%%time\n",
    "X_test_tfidf = tfidf_vect.transform(X_test)\n",
    "X_test_tfidf_ngram = tfidf_vect_ngram.transform(X_test)\n",
    "X_test_tfidf_ngram_chars = tfidf_vect_ngram_chars.transform(X_test)"
   ]
  },
  {
   "cell_type": "code",
   "execution_count": 22,
   "metadata": {},
   "outputs": [],
   "source": [
    "# # Extereme Gradient Boosting on Count Vectors\n",
    "# accuracy_cv = train_model(xgboost.XGBClassifier(), xtrain_count.tocsc(), train_y, xvalid_count.tocsc())\n",
    "# print (\"Xgb, Count Vectors: \", accuracy_cv)"
   ]
  },
  {
   "cell_type": "code",
   "execution_count": 23,
   "metadata": {},
   "outputs": [
    {
     "data": {
      "text/plain": [
       "<40000x1000 sparse matrix of type '<class 'numpy.float64'>'\n",
       "\twith 20752370 stored elements in Compressed Sparse Row format>"
      ]
     },
     "execution_count": 23,
     "metadata": {},
     "output_type": "execute_result"
    }
   ],
   "source": [
    "X_train_tfidf_ngram_chars"
   ]
  },
  {
   "cell_type": "code",
   "execution_count": 24,
   "metadata": {},
   "outputs": [],
   "source": [
    "y_test_en = pd.Series(y_test_en)\n",
    "y_train_en = pd.Series(y_train_en)"
   ]
  },
  {
   "cell_type": "code",
   "execution_count": 2,
   "metadata": {},
   "outputs": [],
   "source": [
    "# y_train_en.value_counts()"
   ]
  },
  {
   "cell_type": "code",
   "execution_count": 1,
   "metadata": {},
   "outputs": [],
   "source": [
    "# y_test_en.value_counts()"
   ]
  },
  {
   "cell_type": "code",
   "execution_count": 3,
   "metadata": {},
   "outputs": [
    {
     "data": {
      "text/plain": [
       "7"
      ]
     },
     "execution_count": 3,
     "metadata": {},
     "output_type": "execute_result"
    }
   ],
   "source": [
    "import multiprocessing\n",
    "n_jobs_cnt = multiprocessing.cpu_count()-1\n",
    "n_jobs_cnt"
   ]
  },
  {
   "cell_type": "code",
   "execution_count": 27,
   "metadata": {},
   "outputs": [],
   "source": [
    "xgb_clf = xgboost.XGBClassifier(n_estimators=300,\n",
    "                                n_jobs=n_jobs_cnt)"
   ]
  },
  {
   "cell_type": "code",
   "execution_count": 28,
   "metadata": {},
   "outputs": [],
   "source": [
    "param_grid_xgb = {'max_depth':[3,5],\n",
    "                  'min_child_weight':[1,2],\n",
    "                  'learning_rate':[0.05,0.1]}"
   ]
  },
  {
   "cell_type": "code",
   "execution_count": 30,
   "metadata": {},
   "outputs": [
    {
     "data": {
      "text/plain": [
       "<40000x1000 sparse matrix of type '<class 'numpy.float64'>'\n",
       "\twith 1999041 stored elements in Compressed Sparse Row format>"
      ]
     },
     "execution_count": 30,
     "metadata": {},
     "output_type": "execute_result"
    }
   ],
   "source": [
    "X_train_tfidf_ngram"
   ]
  },
  {
   "cell_type": "markdown",
   "metadata": {},
   "source": [
    "---"
   ]
  },
  {
   "cell_type": "code",
   "execution_count": 5,
   "metadata": {},
   "outputs": [],
   "source": [
    "xgb_clf_dummy = xgboost.XGBClassifier(min_child_weight=2,\n",
    "                                      max_depth=5,\n",
    "                                      learning_rate=0.1,\n",
    "                                      n_estimators=300,\n",
    "                                      n_jobs=n_jobs_cnt)"
   ]
  },
  {
   "cell_type": "code",
   "execution_count": null,
   "metadata": {},
   "outputs": [],
   "source": [
    "%%time\n",
    "xgb_clf_dummy.fit(X_train_tfidf_ngram,\n",
    "                  y_train_en)"
   ]
  },
  {
   "cell_type": "code",
   "execution_count": null,
   "metadata": {},
   "outputs": [],
   "source": [
    "xgb_clf_dummy.score(X_test_tfidf_ngram,\n",
    "                    y_test_en)"
   ]
  },
  {
   "cell_type": "code",
   "execution_count": null,
   "metadata": {},
   "outputs": [],
   "source": []
  },
  {
   "cell_type": "code",
   "execution_count": null,
   "metadata": {},
   "outputs": [],
   "source": []
  }
 ],
 "metadata": {
  "kernelspec": {
   "display_name": "Python 3",
   "language": "python",
   "name": "python3"
  },
  "language_info": {
   "codemirror_mode": {
    "name": "ipython",
    "version": 3
   },
   "file_extension": ".py",
   "mimetype": "text/x-python",
   "name": "python",
   "nbconvert_exporter": "python",
   "pygments_lexer": "ipython3",
   "version": "3.6.5"
  }
 },
 "nbformat": 4,
 "nbformat_minor": 2
}
